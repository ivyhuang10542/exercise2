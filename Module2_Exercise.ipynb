{
  "nbformat": 4,
  "nbformat_minor": 0,
  "metadata": {
    "kernelspec": {
      "display_name": "Python 3",
      "language": "python",
      "name": "python3"
    },
    "language_info": {
      "codemirror_mode": {
        "name": "ipython",
        "version": 3
      },
      "file_extension": ".py",
      "mimetype": "text/x-python",
      "name": "python",
      "nbconvert_exporter": "python",
      "pygments_lexer": "ipython3",
      "version": "3.7.6"
    },
    "colab": {
      "name": "Module2 Exercise.ipynb",
      "provenance": []
    }
  },
  "cells": [
    {
      "cell_type": "markdown",
      "metadata": {
        "id": "e90qA05Nnta8"
      },
      "source": [
        "## Exercises\n",
        "### Write the pseudocode for these problems. \n",
        "\n",
        "#### Define the problem by constructing an IPO diagram showing input, output, and processing steps\n",
        "Ask yourself\n",
        "- What control structures (sequence, selection and repetition) are required?\n",
        "- What variables are required?\n",
        "\n",
        "Show a check of your solution with **test data** for at least **two valid test cases**\n",
        "If you use the numbers provided in the example then the correct pseudocode will calculate the same result.\n",
        "    "
      ]
    },
    {
      "cell_type": "markdown",
      "metadata": {
        "id": "5PdI_12vntbA"
      },
      "source": [
        "#### 1. Find the average score\n",
        "A program is needed to prompt the user operator for exam scores, calculate the average score and display the result to the screen. The average score is calculated as the sum of the scores divided by the number of scores."
      ]
    },
    {
      "cell_type": "markdown",
      "metadata": {
        "id": "1J-fLrqlntbB"
      },
      "source": [
        "BEGIN\n",
        "  set counter to 1\n",
        "  set total to x\n",
        "  loop counter<=y\n",
        "    prompt user for a score\n",
        "    get number\n",
        "    add number to total\n",
        "  end loop\n",
        "\n",
        "  average=divide total by counter y\n",
        "  print average\n",
        "END\n",
        "  \n",
        "  "
      ]
    },
    {
      "cell_type": "markdown",
      "metadata": {
        "id": "Nm32hZj5ntbC"
      },
      "source": [
        "#### 2. How much water runs off a roof in a rain storm?\n",
        "To calculate the runoff from any given rainfall: Take the dimensions of the footprint of the roof and convert them to inches. (So, a 50' x 20' roof is 600\" x 240\"). Multiply the roof dimensions by the number of inches of rainfall. As an example, 600\" x 240\" x 1\" = 144,000 cubic inches of water for an inch of rainfall. Divide that result by 231 to get the number of gallons (because 1 gallon = 231 cubic inches). (144,000/231 = 623.38)."
      ]
    },
    {
      "cell_type": "markdown",
      "metadata": {
        "id": "dlyIhPAentbC"
      },
      "source": [
        "BEGIN\n",
        "  prompt user for roof in feet\n",
        "  get number\n",
        "  multiply number by 12\n",
        "  prompt user for number of inches of waterfall\n",
        "  get number\n",
        "  multiply number by roof dimensions in inches\n",
        "  get number\n",
        "  divide number by 231\n",
        "  print result\n",
        "END\n"
      ]
    },
    {
      "cell_type": "markdown",
      "metadata": {
        "id": "XULxLcGrntbD"
      },
      "source": [
        "#### 3. Process customer record\n",
        "A program is required to read a customer’s name, a purchase amount and a tax code. The tax code has been validated and will be one of the following: 0 tax exempt (0%) 1 state sales tax only (3%) 2 federal and state sales tax (5%) 3 special sales tax (7%) The program must then compute the sales tax and the total amount due,and print the customer’s name, purchase amount, sales tax and total amount due."
      ]
    },
    {
      "cell_type": "markdown",
      "metadata": {
        "id": "0SHsNxszntbE"
      },
      "source": [
        "BEGIN\n",
        "  prompt user for customer name\n",
        "  get name\n",
        "  prompt user for purchase amount\n",
        "  get amount\n",
        "  prompt user for tax code\n",
        "  get tax code\n",
        "  multiply purchase amount by tax amount\n",
        "  add number to purchase amount\n",
        "  print number\n",
        "END"
      ]
    },
    {
      "cell_type": "markdown",
      "metadata": {
        "id": "xiEl9wkintbF"
      },
      "source": [
        "#### 4. Calculate employee's pay \n",
        "A program is required by a company to read an employee’s number, pay rate and the number of hours worked in a week. The program is then to validate the pay rate field and the hours worked field and, if valid, compute the employee’s weekly pay and then print it and the input data.\n",
        "\n",
        "Validation: According to the company’s rules, the maximum hours an employee can work per week is 60 hours, and the maximum hourly rate is $25.00 per hour. If the hours worked field or the hourly rate field is out of range, the input data and an appropriate message are to be printed and the employee’s weekly pay is not to be calculated.\n",
        "\n",
        "Weekly pay calculation: Weekly pay is calculated as hours worked times pay rate. If more than 35 hours are worked, payment for the overtime hours worked is calculated at time-and-a-half."
      ]
    },
    {
      "cell_type": "markdown",
      "metadata": {
        "id": "q4QZxEAAntbF"
      },
      "source": [
        "BEGIN\n",
        "  prompt user for employee's number\n",
        "  get number\n",
        "  prompt user for pay rate\n",
        "  get pay rate\n",
        "  IF hourly rate>25\n",
        "  print error\n",
        "  prompt user for number of hours worked\n",
        "  get number of hours worked\n",
        "  IF hours>60\n",
        "  print error\n",
        "  \n",
        "  hours worked*25\n",
        "  print amount earned\n",
        "  \n",
        "  If hours>35, get hours worked*1.5*25\n",
        "  print amount earned\n",
        "END\n"
      ]
    }
  ]
}